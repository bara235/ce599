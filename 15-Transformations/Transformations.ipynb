{
 "cells": [
  {
   "cell_type": "markdown",
   "metadata": {},
   "source": [
    "## Transformations in Linear Regression\n",
    "\n",
    "Linear regression assumes that the dependent variables and its predictors are linearly related to each other.  This applies to the terms you specify in the model estimation.  However, you can apply transformations to those variables before estimating the models.  Transformations can be applied to:\n",
    "\n",
    "- Just the dependent variable\n",
    "- One or more predictor variables\n",
    "- Both predictor and dependent variables.\n",
    "\n",
    "Some common transformations are outlined here:\n",
    "\n",
    "https://www.google.com/url?sa=t&rct=j&q=&esrc=s&source=web&cd=&cad=rja&uact=8&ved=2ahUKEwibtIr4o8rvAhVYXM0KHTl9CXYQFjADegQIFRAD&url=https%3A%2F%2Fonlinepubs.trb.org%2Fonlinepubs%2Fnchrp%2Fcd-22%2Fmanual%2Fv2appendixb.pdf&usg=AOvVaw2MUNcGvy4XZhF9G6DBqFZq\n",
    "\n",
    "\n",
    "This lesson draws from David Dranove's excellent explanation of log transformations in regression.  I very much recommend that you read it: \n",
    "\n",
    "https://www.google.com/url?sa=t&rct=j&q=&esrc=s&source=web&cd=15&cad=rja&uact=8&ved=2ahUKEwjI0fu82NvoAhXRWM0KHUuVDCkQFjAOegQICBAB&url=https%3A%2F%2Fcanvas.northwestern.edu%2Ffiles%2F1812457%2Fdownload%3Fdownload_frd%3D1%26verifier%3DQBFTMd2yRHbWR6yC6mp2s0in7G9N3rRZiRFStMrA&usg=AOvVaw1JP3fLhZJA3IEhBHVFbuRq"
   ]
  },
  {
   "cell_type": "markdown",
   "metadata": {},
   "source": [
    "### Log transformations\n",
    "\n",
    "In this lesson, we will focus on log transformations, which are among the most common.  First, a refresher on the properties of logs and expoentials.  (It's been a while, so I tend to keep the cheat sheet around!)\n",
    "\n",
    "![image](log_exp_graph.jpg)\n",
    "\n",
    "![image](log_properties.gif)"
   ]
  },
  {
   "cell_type": "markdown",
   "metadata": {},
   "source": [
    "### What happens when we specify a log-transformed regression model?\n",
    "\n",
    "Let's work out the math..."
   ]
  },
  {
   "cell_type": "code",
   "execution_count": null,
   "metadata": {},
   "outputs": [],
   "source": []
  },
  {
   "cell_type": "markdown",
   "metadata": {},
   "source": [
    "### Why take logs?\n",
    "\n",
    "There are two main reasons to specify a log model instead of a linear model:\n",
    "\n",
    "1. It fits the data better\n",
    "2. You have a theoretical to think that the relationship should be multiplicative instead of additive"
   ]
  },
  {
   "cell_type": "markdown",
   "metadata": {},
   "source": [
    "### Let's try again with the wage data"
   ]
  },
  {
   "cell_type": "code",
   "execution_count": 1,
   "metadata": {},
   "outputs": [],
   "source": [
    "import pandas as pd\n",
    "import seaborn as sns\n",
    "import numpy as np\n",
    "import statsmodels.formula.api as smf\n",
    "\n",
    "# this allows plots to appear directly in the notebook\n",
    "%matplotlib inline"
   ]
  },
  {
   "cell_type": "code",
   "execution_count": 2,
   "metadata": {},
   "outputs": [
    {
     "name": "stderr",
     "output_type": "stream",
     "text": [
      "C:\\ProgramData\\Anaconda3\\lib\\site-packages\\IPython\\core\\interactiveshell.py:3146: DtypeWarning: Columns (1) have mixed types.Specify dtype option on import or set low_memory=False.\n",
      "  has_raised = await self.run_ast_nodes(code_ast.body, cell_name,\n"
     ]
    },
    {
     "data": {
      "text/html": [
       "<div>\n",
       "<style scoped>\n",
       "    .dataframe tbody tr th:only-of-type {\n",
       "        vertical-align: middle;\n",
       "    }\n",
       "\n",
       "    .dataframe tbody tr th {\n",
       "        vertical-align: top;\n",
       "    }\n",
       "\n",
       "    .dataframe thead th {\n",
       "        text-align: right;\n",
       "    }\n",
       "</style>\n",
       "<table border=\"1\" class=\"dataframe\">\n",
       "  <thead>\n",
       "    <tr style=\"text-align: right;\">\n",
       "      <th></th>\n",
       "      <th>RT</th>\n",
       "      <th>SERIALNO</th>\n",
       "      <th>DIVISION</th>\n",
       "      <th>SPORDER</th>\n",
       "      <th>PUMA</th>\n",
       "      <th>REGION</th>\n",
       "      <th>ST</th>\n",
       "      <th>ADJINC</th>\n",
       "      <th>PWGTP</th>\n",
       "      <th>AGEP</th>\n",
       "      <th>...</th>\n",
       "      <th>PWGTP71</th>\n",
       "      <th>PWGTP72</th>\n",
       "      <th>PWGTP73</th>\n",
       "      <th>PWGTP74</th>\n",
       "      <th>PWGTP75</th>\n",
       "      <th>PWGTP76</th>\n",
       "      <th>PWGTP77</th>\n",
       "      <th>PWGTP78</th>\n",
       "      <th>PWGTP79</th>\n",
       "      <th>PWGTP80</th>\n",
       "    </tr>\n",
       "  </thead>\n",
       "  <tbody>\n",
       "    <tr>\n",
       "      <th>0</th>\n",
       "      <td>P</td>\n",
       "      <td>2014000000017</td>\n",
       "      <td>6</td>\n",
       "      <td>1</td>\n",
       "      <td>1800</td>\n",
       "      <td>3</td>\n",
       "      <td>21</td>\n",
       "      <td>1070673</td>\n",
       "      <td>13</td>\n",
       "      <td>42</td>\n",
       "      <td>...</td>\n",
       "      <td>14</td>\n",
       "      <td>5</td>\n",
       "      <td>5</td>\n",
       "      <td>32</td>\n",
       "      <td>15</td>\n",
       "      <td>10</td>\n",
       "      <td>11</td>\n",
       "      <td>15</td>\n",
       "      <td>11</td>\n",
       "      <td>26</td>\n",
       "    </tr>\n",
       "    <tr>\n",
       "      <th>1</th>\n",
       "      <td>P</td>\n",
       "      <td>2014000000017</td>\n",
       "      <td>6</td>\n",
       "      <td>2</td>\n",
       "      <td>1800</td>\n",
       "      <td>3</td>\n",
       "      <td>21</td>\n",
       "      <td>1070673</td>\n",
       "      <td>14</td>\n",
       "      <td>47</td>\n",
       "      <td>...</td>\n",
       "      <td>12</td>\n",
       "      <td>4</td>\n",
       "      <td>4</td>\n",
       "      <td>25</td>\n",
       "      <td>22</td>\n",
       "      <td>15</td>\n",
       "      <td>14</td>\n",
       "      <td>13</td>\n",
       "      <td>15</td>\n",
       "      <td>29</td>\n",
       "    </tr>\n",
       "    <tr>\n",
       "      <th>2</th>\n",
       "      <td>P</td>\n",
       "      <td>2014000000017</td>\n",
       "      <td>6</td>\n",
       "      <td>3</td>\n",
       "      <td>1800</td>\n",
       "      <td>3</td>\n",
       "      <td>21</td>\n",
       "      <td>1070673</td>\n",
       "      <td>13</td>\n",
       "      <td>13</td>\n",
       "      <td>...</td>\n",
       "      <td>10</td>\n",
       "      <td>3</td>\n",
       "      <td>4</td>\n",
       "      <td>24</td>\n",
       "      <td>21</td>\n",
       "      <td>11</td>\n",
       "      <td>13</td>\n",
       "      <td>13</td>\n",
       "      <td>11</td>\n",
       "      <td>25</td>\n",
       "    </tr>\n",
       "    <tr>\n",
       "      <th>3</th>\n",
       "      <td>P</td>\n",
       "      <td>2014000000017</td>\n",
       "      <td>6</td>\n",
       "      <td>4</td>\n",
       "      <td>1800</td>\n",
       "      <td>3</td>\n",
       "      <td>21</td>\n",
       "      <td>1070673</td>\n",
       "      <td>13</td>\n",
       "      <td>8</td>\n",
       "      <td>...</td>\n",
       "      <td>11</td>\n",
       "      <td>3</td>\n",
       "      <td>3</td>\n",
       "      <td>24</td>\n",
       "      <td>22</td>\n",
       "      <td>12</td>\n",
       "      <td>13</td>\n",
       "      <td>13</td>\n",
       "      <td>13</td>\n",
       "      <td>25</td>\n",
       "    </tr>\n",
       "    <tr>\n",
       "      <th>4</th>\n",
       "      <td>P</td>\n",
       "      <td>2014000000076</td>\n",
       "      <td>6</td>\n",
       "      <td>1</td>\n",
       "      <td>2500</td>\n",
       "      <td>3</td>\n",
       "      <td>21</td>\n",
       "      <td>1070673</td>\n",
       "      <td>43</td>\n",
       "      <td>43</td>\n",
       "      <td>...</td>\n",
       "      <td>11</td>\n",
       "      <td>76</td>\n",
       "      <td>46</td>\n",
       "      <td>68</td>\n",
       "      <td>73</td>\n",
       "      <td>41</td>\n",
       "      <td>70</td>\n",
       "      <td>13</td>\n",
       "      <td>38</td>\n",
       "      <td>41</td>\n",
       "    </tr>\n",
       "  </tbody>\n",
       "</table>\n",
       "<p>5 rows × 286 columns</p>\n",
       "</div>"
      ],
      "text/plain": [
       "  RT       SERIALNO  DIVISION  SPORDER  PUMA  REGION  ST   ADJINC  PWGTP  \\\n",
       "0  P  2014000000017         6        1  1800       3  21  1070673     13   \n",
       "1  P  2014000000017         6        2  1800       3  21  1070673     14   \n",
       "2  P  2014000000017         6        3  1800       3  21  1070673     13   \n",
       "3  P  2014000000017         6        4  1800       3  21  1070673     13   \n",
       "4  P  2014000000076         6        1  2500       3  21  1070673     43   \n",
       "\n",
       "   AGEP  ...  PWGTP71  PWGTP72  PWGTP73  PWGTP74  PWGTP75  PWGTP76  PWGTP77  \\\n",
       "0    42  ...       14        5        5       32       15       10       11   \n",
       "1    47  ...       12        4        4       25       22       15       14   \n",
       "2    13  ...       10        3        4       24       21       11       13   \n",
       "3     8  ...       11        3        3       24       22       12       13   \n",
       "4    43  ...       11       76       46       68       73       41       70   \n",
       "\n",
       "   PWGTP78  PWGTP79  PWGTP80  \n",
       "0       15       11       26  \n",
       "1       13       15       29  \n",
       "2       13       11       25  \n",
       "3       13       13       25  \n",
       "4       13       38       41  \n",
       "\n",
       "[5 rows x 286 columns]"
      ]
     },
     "execution_count": 2,
     "metadata": {},
     "output_type": "execute_result"
    }
   ],
   "source": [
    "# get the data\n",
    "df = pd.read_csv('data/psam_p21.csv')\n",
    "df.head()"
   ]
  },
  {
   "cell_type": "code",
   "execution_count": 3,
   "metadata": {},
   "outputs": [
    {
     "data": {
      "text/plain": [
       "103185"
      ]
     },
     "execution_count": 3,
     "metadata": {},
     "output_type": "execute_result"
    }
   ],
   "source": [
    "# keep only the people who have worked within the last 12 months\n",
    "'''\n",
    "WKL 1\n",
    "When last worked\n",
    "b .N/A (less than 16 years old)\n",
    "1 .Within the past 12 months\n",
    "2 .1-5 years ago\n",
    "3 .Over 5 years ago or never worked\n",
    "'''\n",
    "\n",
    "df = df[df['WKL']==1]\n",
    "df = df[df['WAGP']>0]\n",
    "len(df)"
   ]
  },
  {
   "cell_type": "markdown",
   "metadata": {},
   "source": [
    "### Look at the data\n",
    "\n",
    "It is often a good idea to look at the data we want to model, and see how it relates to some variables we expect to be important.  We can do this using seaborn, which we learned about a few weeks ago.  "
   ]
  },
  {
   "cell_type": "code",
   "execution_count": 4,
   "metadata": {},
   "outputs": [
    {
     "name": "stderr",
     "output_type": "stream",
     "text": [
      "C:\\ProgramData\\Anaconda3\\lib\\site-packages\\seaborn\\distributions.py:2551: FutureWarning: `distplot` is a deprecated function and will be removed in a future version. Please adapt your code to use either `displot` (a figure-level function with similar flexibility) or `histplot` (an axes-level function for histograms).\n",
      "  warnings.warn(msg, FutureWarning)\n"
     ]
    },
    {
     "data": {
      "text/plain": [
       "<AxesSubplot:xlabel='WAGP', ylabel='Density'>"
      ]
     },
     "execution_count": 4,
     "metadata": {},
     "output_type": "execute_result"
    },
    {
     "data": {
      "image/png": "[encoded data removed]",
      "text/plain": [
       "<Figure size 432x288 with 1 Axes>"
      ]
     },
     "metadata": {
      "needs_background": "light"
     },
     "output_type": "display_data"
    }
   ],
   "source": [
    "'''\n",
    "WAGP 6\n",
    "Wages or salary income past 12 months\n",
    "bbbbbb .N/A (less than 15 years old)\n",
    "000000 .None\n",
    "000001..999999 .$1 to 999999 (Rounded and top-coded)\n",
    "'''\n",
    "\n",
    "sns.distplot(df['WAGP'])"
   ]
  },
  {
   "cell_type": "code",
   "execution_count": 4,
   "metadata": {},
   "outputs": [
    {
     "name": "stderr",
     "output_type": "stream",
     "text": [
      "C:\\ProgramData\\Anaconda3\\lib\\site-packages\\seaborn\\axisgrid.py:2015: UserWarning: The `size` parameter has been renamed to `height`; please update your code.\n",
      "  warnings.warn(msg, UserWarning)\n"
     ]
    },
    {
     "data": {
      "text/plain": [
       "<seaborn.axisgrid.JointGrid at 0x1fd954551c0>"
      ]
     },
     "execution_count": 4,
     "metadata": {},
     "output_type": "execute_result"
    },
    {
     "data": {
      "image/png": "[encoded data removed]",
      "text/plain": [
       "<Figure size 576x576 with 3 Axes>"
      ]
     },
     "metadata": {
      "needs_background": "light"
     },
     "output_type": "display_data"
    }
   ],
   "source": [
    "# we may think that wages relate to hours worked, so let's look at that relationship\n",
    "'''\n",
    "WKHP 2\n",
    "Usual hours worked per week past 12 months\n",
    "bb .N/A (less than 16 years old/did not work during the past 12\n",
    ".months)\n",
    "01..98 .1 to 98 usual hours\n",
    "99 .99 or more usual hours\n",
    "'''\n",
    "\n",
    "sns.jointplot(x=\"WKHP\", y=\"WAGP\", data=df, size=8)"
   ]
  },
  {
   "cell_type": "markdown",
   "metadata": {},
   "source": [
    "### Estimating some models"
   ]
  },
  {
   "cell_type": "code",
   "execution_count": 5,
   "metadata": {},
   "outputs": [
    {
     "name": "stdout",
     "output_type": "stream",
     "text": [
      "                            OLS Regression Results                            \n",
      "==============================================================================\n",
      "Dep. Variable:                   WAGP   R-squared:                       0.147\n",
      "Model:                            OLS   Adj. R-squared:                  0.147\n",
      "Method:                 Least Squares   F-statistic:                 1.785e+04\n",
      "Date:                Mon, 29 Mar 2021   Prob (F-statistic):               0.00\n",
      "Time:                        02:19:55   Log-Likelihood:            -1.2536e+06\n",
      "No. Observations:              103185   AIC:                         2.507e+06\n",
      "Df Residuals:                  103183   BIC:                         2.507e+06\n",
      "Df Model:                           1                                         \n",
      "Covariance Type:            nonrobust                                         \n",
      "==============================================================================\n",
      "                 coef    std err          t      P>|t|      [0.025      0.975]\n",
      "------------------------------------------------------------------------------\n",
      "Intercept  -1.685e+04    458.540    -36.743      0.000   -1.77e+04   -1.59e+04\n",
      "WKHP        1514.0569     11.332    133.612      0.000    1491.847    1536.267\n",
      "==============================================================================\n",
      "Omnibus:                    93955.750   Durbin-Watson:                   1.877\n",
      "Prob(Omnibus):                  0.000   Jarque-Bera (JB):          3574134.493\n",
      "Skew:                           4.433   Prob(JB):                         0.00\n",
      "Kurtosis:                      30.436   Cond. No.                         130.\n",
      "==============================================================================\n",
      "\n",
      "Notes:\n",
      "[1] Standard Errors assume that the covariance matrix of the errors is correctly specified.\n"
     ]
    }
   ],
   "source": [
    "# linear model\n",
    "mod = smf.ols(formula='WAGP ~ WKHP', data=df)\n",
    "res = mod.fit()\n",
    "print(res.summary())"
   ]
  },
  {
   "cell_type": "code",
   "execution_count": 7,
   "metadata": {},
   "outputs": [
    {
     "name": "stdout",
     "output_type": "stream",
     "text": [
      "                            OLS Regression Results                            \n",
      "==============================================================================\n",
      "Dep. Variable:       np.log(1 + WAGP)   R-squared:                       0.144\n",
      "Model:                            OLS   Adj. R-squared:                  0.144\n",
      "Method:                 Least Squares   F-statistic:                 1.835e+04\n",
      "Date:                Thu, 25 Mar 2021   Prob (F-statistic):               0.00\n",
      "Time:                        12:39:52   Log-Likelihood:            -2.4945e+05\n",
      "No. Observations:              108994   AIC:                         4.989e+05\n",
      "Df Residuals:                  108992   BIC:                         4.989e+05\n",
      "Df Model:                           1                                         \n",
      "Covariance Type:            nonrobust                                         \n",
      "====================================================================================\n",
      "                       coef    std err          t      P>|t|      [0.025      0.975]\n",
      "------------------------------------------------------------------------------------\n",
      "Intercept            1.9019      0.057     33.579      0.000       1.791       2.013\n",
      "np.log(1 + WKHP)     2.1192      0.016    135.445      0.000       2.089       2.150\n",
      "==============================================================================\n",
      "Omnibus:                    69262.530   Durbin-Watson:                   1.912\n",
      "Prob(Omnibus):                  0.000   Jarque-Bera (JB):           623529.061\n",
      "Skew:                          -3.085   Prob(JB):                         0.00\n",
      "Kurtosis:                      12.961   Cond. No.                         30.5\n",
      "==============================================================================\n",
      "\n",
      "Notes:\n",
      "[1] Standard Errors assume that the covariance matrix of the errors is correctly specified.\n"
     ]
    }
   ],
   "source": [
    "# log-log model\n",
    "mod = smf.ols(formula='np.log(1+WAGP) ~ np.log(1+WKHP)', data=df)\n",
    "res = mod.fit()\n",
    "print(res.summary())"
   ]
  },
  {
   "cell_type": "code",
   "execution_count": 6,
   "metadata": {},
   "outputs": [
    {
     "name": "stdout",
     "output_type": "stream",
     "text": [
      "                            OLS Regression Results                            \n",
      "==============================================================================\n",
      "Dep. Variable:       np.log(1 + WAGP)   R-squared:                       0.374\n",
      "Model:                            OLS   Adj. R-squared:                  0.374\n",
      "Method:                 Least Squares   F-statistic:                 6.175e+04\n",
      "Date:                Mon, 29 Mar 2021   Prob (F-statistic):               0.00\n",
      "Time:                        02:20:14   Log-Likelihood:            -1.4799e+05\n",
      "No. Observations:              103185   AIC:                         2.960e+05\n",
      "Df Residuals:                  103183   BIC:                         2.960e+05\n",
      "Df Model:                           1                                         \n",
      "Covariance Type:            nonrobust                                         \n",
      "==============================================================================\n",
      "                 coef    std err          t      P>|t|      [0.025      0.975]\n",
      "------------------------------------------------------------------------------\n",
      "Intercept      7.6409      0.010    750.318      0.000       7.621       7.661\n",
      "WKHP           0.0625      0.000    248.495      0.000       0.062       0.063\n",
      "==============================================================================\n",
      "Omnibus:                    20101.388   Durbin-Watson:                   1.834\n",
      "Prob(Omnibus):                  0.000   Jarque-Bera (JB):            56669.041\n",
      "Skew:                          -1.037   Prob(JB):                         0.00\n",
      "Kurtosis:                       5.980   Cond. No.                         130.\n",
      "==============================================================================\n",
      "\n",
      "Notes:\n",
      "[1] Standard Errors assume that the covariance matrix of the errors is correctly specified.\n"
     ]
    }
   ],
   "source": [
    "# log-linear model\n",
    "mod = smf.ols(formula='np.log(1+WAGP) ~ WKHP', data=df)\n",
    "res = mod.fit()\n",
    "print(res.summary())"
   ]
  },
  {
   "cell_type": "code",
   "execution_count": 9,
   "metadata": {},
   "outputs": [],
   "source": [
    "# What makes sense here?"
   ]
  },
  {
   "cell_type": "code",
   "execution_count": null,
   "metadata": {},
   "outputs": [],
   "source": []
  },
  {
   "cell_type": "markdown",
   "metadata": {},
   "source": [
    "### Categorical variables\n",
    "\n",
    "We may also want to include categorical variables.  We can include them by calculating a 'dummy' variable, which is 1 if the value is in a category, and zero otherwise.  "
   ]
  },
  {
   "cell_type": "code",
   "execution_count": 7,
   "metadata": {},
   "outputs": [],
   "source": [
    "'''\n",
    "SCHL 2\n",
    "Educational attainment\n",
    "bb .N/A (less than 3 years old)\n",
    "01 .No schooling completed\n",
    "02 .Nursery school, preschool 03 .Kindergarten\n",
    "04 .Grade 1\n",
    "05 .Grade 2\n",
    "06 .Grade 3\n",
    "07 .Grade 4\n",
    "08 .Grade 5\n",
    "09 .Grade 6\n",
    "10 .Grade 7\n",
    "11 .Grade 8\n",
    "12 .Grade 9\n",
    "13 .Grade 10\n",
    "14 .Grade 11 15 .12th grade - no diploma\n",
    "16 .Regular high school diploma\n",
    "17 .GED or alternative credential\n",
    "18 .Some college, but less than 1 year\n",
    "19 .1 or more years of college credit, no degree\n",
    "20 .Associate's degree\n",
    "21 .Bachelor's degree\n",
    "22 .Master's degree\n",
    "23 .Professional degree beyond a bachelor's degree\n",
    "24 .Doctorate degree\n",
    "'''\n",
    "\n",
    "# Is someone a college grad\n",
    "df['college_grad'] = df['SCHL'].apply(lambda x : x>=20)"
   ]
  },
  {
   "cell_type": "code",
   "execution_count": 8,
   "metadata": {},
   "outputs": [
    {
     "name": "stdout",
     "output_type": "stream",
     "text": [
      "                            OLS Regression Results                            \n",
      "==============================================================================\n",
      "Dep. Variable:       np.log(1 + WAGP)   R-squared:                       0.469\n",
      "Model:                            OLS   Adj. R-squared:                  0.469\n",
      "Method:                 Least Squares   F-statistic:                 4.549e+04\n",
      "Date:                Mon, 29 Mar 2021   Prob (F-statistic):               0.00\n",
      "Time:                        02:20:44   Log-Likelihood:            -1.3957e+05\n",
      "No. Observations:              103185   AIC:                         2.791e+05\n",
      "Df Residuals:                  103182   BIC:                         2.792e+05\n",
      "Df Model:                           2                                         \n",
      "Covariance Type:            nonrobust                                         \n",
      "========================================================================================\n",
      "                           coef    std err          t      P>|t|      [0.025      0.975]\n",
      "----------------------------------------------------------------------------------------\n",
      "Intercept                3.3776      0.024    140.894      0.000       3.331       3.425\n",
      "college_grad[T.True]     0.6478      0.006    107.587      0.000       0.636       0.660\n",
      "np.log(1 + WKHP)         1.7820      0.007    268.122      0.000       1.769       1.795\n",
      "==============================================================================\n",
      "Omnibus:                    18882.996   Durbin-Watson:                   1.896\n",
      "Prob(Omnibus):                  0.000   Jarque-Bera (JB):            71767.893\n",
      "Skew:                          -0.884   Prob(JB):                         0.00\n",
      "Kurtosis:                       6.683   Cond. No.                         32.3\n",
      "==============================================================================\n",
      "\n",
      "Notes:\n",
      "[1] Standard Errors assume that the covariance matrix of the errors is correctly specified.\n"
     ]
    }
   ],
   "source": [
    "# note that I can wrap long strings with a \\ character\n",
    "mod = smf.ols(formula=\"np.log(1+WAGP) \\\n",
    "                       ~ np.log(1+WKHP) \\\n",
    "                       + college_grad\", \n",
    "              data=df)\n",
    "res = mod.fit()\n",
    "print(res.summary())"
   ]
  },
  {
   "cell_type": "code",
   "execution_count": null,
   "metadata": {},
   "outputs": [],
   "source": []
  },
  {
   "cell_type": "code",
   "execution_count": 9,
   "metadata": {},
   "outputs": [],
   "source": [
    "# What would you recommend for age?  "
   ]
  },
  {
   "cell_type": "code",
   "execution_count": null,
   "metadata": {},
   "outputs": [],
   "source": []
  },
  {
   "cell_type": "markdown",
   "metadata": {},
   "source": [
    "## Homework\n",
    "\n",
    "1. Read and understand:\n",
    "\n",
    "https://www.google.com/url?sa=t&rct=j&q=&esrc=s&source=web&cd=15&cad=rja&uact=8&ved=2ahUKEwjI0fu82NvoAhXRWM0KHUuVDCkQFjAOegQICBAB&url=https%3A%2F%2Fcanvas.northwestern.edu%2Ffiles%2F1812457%2Fdownload%3Fdownload_frd%3D1%26verifier%3DQBFTMd2yRHbWR6yC6mp2s0in7G9N3rRZiRFStMrA&usg=AOvVaw1JP3fLhZJA3IEhBHVFbuRq\n",
    "\n",
    "2. Revisit our previous homework modeling wages.  Specify your best log-log and log-linear models.  What would you recommend in this situation?  "
   ]
  },
  {
   "cell_type": "code",
   "execution_count": 10,
   "metadata": {},
   "outputs": [],
   "source": [
    "import pandas as pd\n",
    "import seaborn as sns\n",
    "import numpy as np\n",
    "import statsmodels.formula.api as smf\n",
    "\n",
    "# this allows plots to appear directly in the notebook\n",
    "%matplotlib inline"
   ]
  },
  {
   "cell_type": "code",
   "execution_count": 11,
   "metadata": {},
   "outputs": [
    {
     "name": "stderr",
     "output_type": "stream",
     "text": [
      "C:\\ProgramData\\Anaconda3\\lib\\site-packages\\IPython\\core\\interactiveshell.py:3146: DtypeWarning: Columns (1) have mixed types.Specify dtype option on import or set low_memory=False.\n",
      "  has_raised = await self.run_ast_nodes(code_ast.body, cell_name,\n"
     ]
    },
    {
     "data": {
      "text/html": [
       "<div>\n",
       "<style scoped>\n",
       "    .dataframe tbody tr th:only-of-type {\n",
       "        vertical-align: middle;\n",
       "    }\n",
       "\n",
       "    .dataframe tbody tr th {\n",
       "        vertical-align: top;\n",
       "    }\n",
       "\n",
       "    .dataframe thead th {\n",
       "        text-align: right;\n",
       "    }\n",
       "</style>\n",
       "<table border=\"1\" class=\"dataframe\">\n",
       "  <thead>\n",
       "    <tr style=\"text-align: right;\">\n",
       "      <th></th>\n",
       "      <th>RT</th>\n",
       "      <th>SERIALNO</th>\n",
       "      <th>DIVISION</th>\n",
       "      <th>SPORDER</th>\n",
       "      <th>PUMA</th>\n",
       "      <th>REGION</th>\n",
       "      <th>ST</th>\n",
       "      <th>ADJINC</th>\n",
       "      <th>PWGTP</th>\n",
       "      <th>AGEP</th>\n",
       "      <th>...</th>\n",
       "      <th>PWGTP71</th>\n",
       "      <th>PWGTP72</th>\n",
       "      <th>PWGTP73</th>\n",
       "      <th>PWGTP74</th>\n",
       "      <th>PWGTP75</th>\n",
       "      <th>PWGTP76</th>\n",
       "      <th>PWGTP77</th>\n",
       "      <th>PWGTP78</th>\n",
       "      <th>PWGTP79</th>\n",
       "      <th>PWGTP80</th>\n",
       "    </tr>\n",
       "  </thead>\n",
       "  <tbody>\n",
       "    <tr>\n",
       "      <th>0</th>\n",
       "      <td>P</td>\n",
       "      <td>2014000000017</td>\n",
       "      <td>6</td>\n",
       "      <td>1</td>\n",
       "      <td>1800</td>\n",
       "      <td>3</td>\n",
       "      <td>21</td>\n",
       "      <td>1070673</td>\n",
       "      <td>13</td>\n",
       "      <td>42</td>\n",
       "      <td>...</td>\n",
       "      <td>14</td>\n",
       "      <td>5</td>\n",
       "      <td>5</td>\n",
       "      <td>32</td>\n",
       "      <td>15</td>\n",
       "      <td>10</td>\n",
       "      <td>11</td>\n",
       "      <td>15</td>\n",
       "      <td>11</td>\n",
       "      <td>26</td>\n",
       "    </tr>\n",
       "    <tr>\n",
       "      <th>1</th>\n",
       "      <td>P</td>\n",
       "      <td>2014000000017</td>\n",
       "      <td>6</td>\n",
       "      <td>2</td>\n",
       "      <td>1800</td>\n",
       "      <td>3</td>\n",
       "      <td>21</td>\n",
       "      <td>1070673</td>\n",
       "      <td>14</td>\n",
       "      <td>47</td>\n",
       "      <td>...</td>\n",
       "      <td>12</td>\n",
       "      <td>4</td>\n",
       "      <td>4</td>\n",
       "      <td>25</td>\n",
       "      <td>22</td>\n",
       "      <td>15</td>\n",
       "      <td>14</td>\n",
       "      <td>13</td>\n",
       "      <td>15</td>\n",
       "      <td>29</td>\n",
       "    </tr>\n",
       "    <tr>\n",
       "      <th>2</th>\n",
       "      <td>P</td>\n",
       "      <td>2014000000017</td>\n",
       "      <td>6</td>\n",
       "      <td>3</td>\n",
       "      <td>1800</td>\n",
       "      <td>3</td>\n",
       "      <td>21</td>\n",
       "      <td>1070673</td>\n",
       "      <td>13</td>\n",
       "      <td>13</td>\n",
       "      <td>...</td>\n",
       "      <td>10</td>\n",
       "      <td>3</td>\n",
       "      <td>4</td>\n",
       "      <td>24</td>\n",
       "      <td>21</td>\n",
       "      <td>11</td>\n",
       "      <td>13</td>\n",
       "      <td>13</td>\n",
       "      <td>11</td>\n",
       "      <td>25</td>\n",
       "    </tr>\n",
       "    <tr>\n",
       "      <th>3</th>\n",
       "      <td>P</td>\n",
       "      <td>2014000000017</td>\n",
       "      <td>6</td>\n",
       "      <td>4</td>\n",
       "      <td>1800</td>\n",
       "      <td>3</td>\n",
       "      <td>21</td>\n",
       "      <td>1070673</td>\n",
       "      <td>13</td>\n",
       "      <td>8</td>\n",
       "      <td>...</td>\n",
       "      <td>11</td>\n",
       "      <td>3</td>\n",
       "      <td>3</td>\n",
       "      <td>24</td>\n",
       "      <td>22</td>\n",
       "      <td>12</td>\n",
       "      <td>13</td>\n",
       "      <td>13</td>\n",
       "      <td>13</td>\n",
       "      <td>25</td>\n",
       "    </tr>\n",
       "    <tr>\n",
       "      <th>4</th>\n",
       "      <td>P</td>\n",
       "      <td>2014000000076</td>\n",
       "      <td>6</td>\n",
       "      <td>1</td>\n",
       "      <td>2500</td>\n",
       "      <td>3</td>\n",
       "      <td>21</td>\n",
       "      <td>1070673</td>\n",
       "      <td>43</td>\n",
       "      <td>43</td>\n",
       "      <td>...</td>\n",
       "      <td>11</td>\n",
       "      <td>76</td>\n",
       "      <td>46</td>\n",
       "      <td>68</td>\n",
       "      <td>73</td>\n",
       "      <td>41</td>\n",
       "      <td>70</td>\n",
       "      <td>13</td>\n",
       "      <td>38</td>\n",
       "      <td>41</td>\n",
       "    </tr>\n",
       "  </tbody>\n",
       "</table>\n",
       "<p>5 rows × 286 columns</p>\n",
       "</div>"
      ],
      "text/plain": [
       "  RT       SERIALNO  DIVISION  SPORDER  PUMA  REGION  ST   ADJINC  PWGTP  \\\n",
       "0  P  2014000000017         6        1  1800       3  21  1070673     13   \n",
       "1  P  2014000000017         6        2  1800       3  21  1070673     14   \n",
       "2  P  2014000000017         6        3  1800       3  21  1070673     13   \n",
       "3  P  2014000000017         6        4  1800       3  21  1070673     13   \n",
       "4  P  2014000000076         6        1  2500       3  21  1070673     43   \n",
       "\n",
       "   AGEP  ...  PWGTP71  PWGTP72  PWGTP73  PWGTP74  PWGTP75  PWGTP76  PWGTP77  \\\n",
       "0    42  ...       14        5        5       32       15       10       11   \n",
       "1    47  ...       12        4        4       25       22       15       14   \n",
       "2    13  ...       10        3        4       24       21       11       13   \n",
       "3     8  ...       11        3        3       24       22       12       13   \n",
       "4    43  ...       11       76       46       68       73       41       70   \n",
       "\n",
       "   PWGTP78  PWGTP79  PWGTP80  \n",
       "0       15       11       26  \n",
       "1       13       15       29  \n",
       "2       13       11       25  \n",
       "3       13       13       25  \n",
       "4       13       38       41  \n",
       "\n",
       "[5 rows x 286 columns]"
      ]
     },
     "execution_count": 11,
     "metadata": {},
     "output_type": "execute_result"
    }
   ],
   "source": [
    "# get the data\n",
    "df = pd.read_csv('data/psam_p21.csv')\n",
    "df.head()"
   ]
  },
  {
   "cell_type": "code",
   "execution_count": 12,
   "metadata": {},
   "outputs": [
    {
     "data": {
      "text/plain": [
       "103185"
      ]
     },
     "execution_count": 12,
     "metadata": {},
     "output_type": "execute_result"
    }
   ],
   "source": [
    "df = df[df['WKL']==1]\n",
    "df = df[df['WAGP']>0]\n",
    "len(df)"
   ]
  },
  {
   "cell_type": "code",
   "execution_count": 17,
   "metadata": {},
   "outputs": [
    {
     "data": {
      "text/plain": [
       "Others                                     102847\n",
       "Civil Engineering                             264\n",
       "Transportation Science and Technologies        74\n",
       "Name: degree, dtype: int64"
      ]
     },
     "execution_count": 17,
     "metadata": {},
     "output_type": "execute_result"
    }
   ],
   "source": [
    "def recode_degree(FOD1P): \n",
    "    if FOD1P==2406: \n",
    "        return \"Civil Engineering\"\n",
    "    elif FOD1P==5901: \n",
    "        return \"Transportation Science and Technologies\"\n",
    "    else: \n",
    "        return \"Others\"\n",
    "\n",
    "df['degree'] = df['FOD1P'].apply(recode_degree)\n",
    "df['degree'].value_counts()"
   ]
  },
  {
   "cell_type": "code",
   "execution_count": 21,
   "metadata": {},
   "outputs": [
    {
     "name": "stdout",
     "output_type": "stream",
     "text": [
      "                            OLS Regression Results                            \n",
      "==============================================================================\n",
      "Dep. Variable:                   WAGP   R-squared:                       0.094\n",
      "Model:                            OLS   Adj. R-squared:                  0.094\n",
      "Method:                 Least Squares   F-statistic:                     3559.\n",
      "Date:                Mon, 29 Mar 2021   Prob (F-statistic):               0.00\n",
      "Time:                        02:41:25   Log-Likelihood:            -1.2568e+06\n",
      "No. Observations:              103185   AIC:                         2.514e+06\n",
      "Df Residuals:                  103181   BIC:                         2.514e+06\n",
      "Df Model:                           3                                         \n",
      "Covariance Type:            nonrobust                                         \n",
      "======================================================================================================\n",
      "                                         coef    std err          t      P>|t|      [0.025      0.975]\n",
      "------------------------------------------------------------------------------------------------------\n",
      "Intercept                           2.947e+04    187.304    157.359      0.000    2.91e+04    2.98e+04\n",
      "Civil_Engineer[T.True]              2.805e+04   2910.853      9.635      0.000    2.23e+04    3.38e+04\n",
      "Transportation_ScienceTech[T.True]   5.53e+04   5484.873     10.083      0.000    4.46e+04    6.61e+04\n",
      "college_grad[T.True]                3.057e+04    302.197    101.168      0.000       3e+04    3.12e+04\n",
      "==============================================================================\n",
      "Omnibus:                    89318.546   Durbin-Watson:                   1.965\n",
      "Prob(Omnibus):                  0.000   Jarque-Bera (JB):          2898458.486\n",
      "Skew:                           4.148   Prob(JB):                         0.00\n",
      "Kurtosis:                      27.604   Cond. No.                         40.7\n",
      "==============================================================================\n",
      "\n",
      "Notes:\n",
      "[1] Standard Errors assume that the covariance matrix of the errors is correctly specified.\n"
     ]
    }
   ],
   "source": [
    "# Question 1: \n",
    "df['college_grad'] = df['SCHL'].apply(lambda x : x>=20)\n",
    "df['Civil_Engineer'] = (df['degree']==\"Civil Engineering\")\n",
    "df['Transportation_ScienceTech']= (df['degree']==\"Transportation Science and Technologies\")\n",
    "mod = smf.ols(formula=\"WAGP \\\n",
    "                       ~Civil_Engineer\\\n",
    "                       +Transportation_ScienceTech\\\n",
    "                       +college_grad\", \n",
    "              data=df)\n",
    "res = mod.fit()\n",
    "print(res.summary())"
   ]
  },
  {
   "cell_type": "code",
   "execution_count": 22,
   "metadata": {},
   "outputs": [
    {
     "name": "stdout",
     "output_type": "stream",
     "text": [
      "                            OLS Regression Results                            \n",
      "==============================================================================\n",
      "Dep. Variable:       np.log(1 + WAGP)   R-squared:                       0.099\n",
      "Model:                            OLS   Adj. R-squared:                  0.099\n",
      "Method:                 Least Squares   F-statistic:                     3776.\n",
      "Date:                Mon, 29 Mar 2021   Prob (F-statistic):               0.00\n",
      "Time:                        02:44:27   Log-Likelihood:            -1.6681e+05\n",
      "No. Observations:              103185   AIC:                         3.336e+05\n",
      "Df Residuals:                  103181   BIC:                         3.337e+05\n",
      "Df Model:                           3                                         \n",
      "Covariance Type:            nonrobust                                         \n",
      "======================================================================================================\n",
      "                                         coef    std err          t      P>|t|      [0.025      0.975]\n",
      "------------------------------------------------------------------------------------------------------\n",
      "Intercept                              9.7272      0.005   2008.905      0.000       9.718       9.737\n",
      "Civil_Engineer[T.True]                 0.5176      0.075      6.879      0.000       0.370       0.665\n",
      "Transportation_ScienceTech[T.True]     0.7184      0.142      5.067      0.000       0.441       0.996\n",
      "college_grad[T.True]                   0.8219      0.008    105.204      0.000       0.807       0.837\n",
      "==============================================================================\n",
      "Omnibus:                    22166.853   Durbin-Watson:                   1.926\n",
      "Prob(Omnibus):                  0.000   Jarque-Bera (JB):            49402.924\n",
      "Skew:                          -1.235   Prob(JB):                         0.00\n",
      "Kurtosis:                       5.322   Cond. No.                         40.7\n",
      "==============================================================================\n",
      "\n",
      "Notes:\n",
      "[1] Standard Errors assume that the covariance matrix of the errors is correctly specified.\n"
     ]
    }
   ],
   "source": [
    "#Question 1, but with log transformation in regression\n",
    "mod = smf.ols(formula=\"np.log(1+WAGP) \\\n",
    "                       ~Civil_Engineer\\\n",
    "                       +Transportation_ScienceTech\\\n",
    "                       +college_grad\", \n",
    "              data=df)\n",
    "res = mod.fit()\n",
    "print(res.summary())"
   ]
  },
  {
   "cell_type": "code",
   "execution_count": 23,
   "metadata": {},
   "outputs": [
    {
     "data": {
      "text/plain": [
       "Others    97648\n",
       "TRN        4891\n",
       "AER         646\n",
       "Name: occupation, dtype: int64"
      ]
     },
     "execution_count": 23,
     "metadata": {},
     "output_type": "execute_result"
    }
   ],
   "source": [
    "def recode_occupation(NAICSP): \n",
    "    if NAICSP==\"5413\": \n",
    "        return \"AER\"\n",
    "    elif NAICSP in [\"481\",\"482\",\"483\",\"484\",\"4853\",\"485M\",\"486\",\"487\",\"488\",\"491\",\"492\",\"493\"]: \n",
    "        return \"TRN\"\n",
    "    else:\n",
    "        return \"Others\"\n",
    "\n",
    "df['occupation'] = df['NAICSP'].apply(recode_occupation)\n",
    "df['occupation'].value_counts()"
   ]
  },
  {
   "cell_type": "code",
   "execution_count": 24,
   "metadata": {
    "scrolled": true
   },
   "outputs": [
    {
     "name": "stdout",
     "output_type": "stream",
     "text": [
      "                            OLS Regression Results                            \n",
      "==============================================================================\n",
      "Dep. Variable:                   WAGP   R-squared:                       0.002\n",
      "Model:                            OLS   Adj. R-squared:                  0.002\n",
      "Method:                 Least Squares   F-statistic:                     78.81\n",
      "Date:                Mon, 29 Mar 2021   Prob (F-statistic):           6.31e-35\n",
      "Time:                        02:49:31   Log-Likelihood:            -1.2618e+06\n",
      "No. Observations:              103185   AIC:                         2.524e+06\n",
      "Df Residuals:                  103182   BIC:                         2.524e+06\n",
      "Df Model:                           2                                         \n",
      "Covariance Type:            nonrobust                                         \n",
      "===============================================================================\n",
      "                  coef    std err          t      P>|t|      [0.025      0.975]\n",
      "-------------------------------------------------------------------------------\n",
      "Intercept    4.103e+04    158.341    259.101      0.000    4.07e+04    4.13e+04\n",
      "AER[T.True]  2.078e+04   1953.175     10.639      0.000     1.7e+04    2.46e+04\n",
      "TRN[T.True]  4968.3278    725.003      6.853      0.000    3547.332    6389.323\n",
      "==============================================================================\n",
      "Omnibus:                    89423.144   Durbin-Watson:                   1.907\n",
      "Prob(Omnibus):                  0.000   Jarque-Bera (JB):          2775650.916\n",
      "Skew:                           4.176   Prob(JB):                         0.00\n",
      "Kurtosis:                      26.996   Cond. No.                         12.7\n",
      "==============================================================================\n",
      "\n",
      "Notes:\n",
      "[1] Standard Errors assume that the covariance matrix of the errors is correctly specified.\n"
     ]
    }
   ],
   "source": [
    "df['TRN'] = (df['occupation']==\"TRN\")\n",
    "df['AER']= (df['occupation']==\"AER\")\n",
    "\n",
    "mod = smf.ols(formula=\"WAGP \\\n",
    "                       ~AER\\\n",
    "                        +TRN\", \n",
    "              data=df)\n",
    "res = mod.fit()\n",
    "print(res.summary())"
   ]
  },
  {
   "cell_type": "code",
   "execution_count": 25,
   "metadata": {},
   "outputs": [
    {
     "name": "stdout",
     "output_type": "stream",
     "text": [
      "                            OLS Regression Results                            \n",
      "==============================================================================\n",
      "Dep. Variable:       np.log(1 + WAGP)   R-squared:                       0.003\n",
      "Model:                            OLS   Adj. R-squared:                  0.003\n",
      "Method:                 Least Squares   F-statistic:                     176.2\n",
      "Date:                Mon, 29 Mar 2021   Prob (F-statistic):           4.22e-77\n",
      "Time:                        02:50:14   Log-Likelihood:            -1.7201e+05\n",
      "No. Observations:              103185   AIC:                         3.440e+05\n",
      "Df Residuals:                  103182   BIC:                         3.441e+05\n",
      "Df Model:                           2                                         \n",
      "Covariance Type:            nonrobust                                         \n",
      "===============================================================================\n",
      "                  coef    std err          t      P>|t|      [0.025      0.975]\n",
      "-------------------------------------------------------------------------------\n",
      "Intercept      10.0302      0.004   2445.711      0.000      10.022      10.038\n",
      "AER[T.True]     0.6683      0.051     13.211      0.000       0.569       0.767\n",
      "TRN[T.True]     0.2547      0.019     13.566      0.000       0.218       0.292\n",
      "==============================================================================\n",
      "Omnibus:                    20162.320   Durbin-Watson:                   1.872\n",
      "Prob(Omnibus):                  0.000   Jarque-Bera (JB):            41453.928\n",
      "Skew:                          -1.165   Prob(JB):                         0.00\n",
      "Kurtosis:                       5.053   Cond. No.                         12.7\n",
      "==============================================================================\n",
      "\n",
      "Notes:\n",
      "[1] Standard Errors assume that the covariance matrix of the errors is correctly specified.\n"
     ]
    }
   ],
   "source": [
    "#Question 2, but with log Transformation\n",
    "\n",
    "mod = smf.ols(formula=\"np.log(1+WAGP) \\\n",
    "                       ~AER\\\n",
    "                        +TRN\", \n",
    "              data=df)\n",
    "res = mod.fit()\n",
    "print(res.summary())"
   ]
  },
  {
   "cell_type": "code",
   "execution_count": 31,
   "metadata": {},
   "outputs": [],
   "source": [
    "#Question 3:wage difference between male and female civil engineers\n",
    "df2=df[df['degree']==\"Civil Engineering\"].groupby('SEX')\n"
   ]
  },
  {
   "cell_type": "code",
   "execution_count": 34,
   "metadata": {},
   "outputs": [
    {
     "name": "stdout",
     "output_type": "stream",
     "text": [
      "                            OLS Regression Results                            \n",
      "==============================================================================\n",
      "Dep. Variable:                   WAGP   R-squared:                       0.024\n",
      "Model:                            OLS   Adj. R-squared:                  0.020\n",
      "Method:                 Least Squares   F-statistic:                     6.349\n",
      "Date:                Mon, 29 Mar 2021   Prob (F-statistic):             0.0123\n",
      "Time:                        02:59:09   Log-Likelihood:                -3320.4\n",
      "No. Observations:                 264   AIC:                             6645.\n",
      "Df Residuals:                     262   BIC:                             6652.\n",
      "Df Model:                           1                                         \n",
      "Covariance Type:            nonrobust                                         \n",
      "====================================================================================\n",
      "                       coef    std err          t      P>|t|      [0.025      0.975]\n",
      "------------------------------------------------------------------------------------\n",
      "Intercept         4.965e+04   4620.110     10.746      0.000    4.05e+04    5.87e+04\n",
      "CE_WOMEN[T.True]  7361.3353   8851.406      0.832      0.406   -1.01e+04    2.48e+04\n",
      "CE_MEN[T.True]    4.228e+04   5327.261      7.937      0.000    3.18e+04    5.28e+04\n",
      "==============================================================================\n",
      "Omnibus:                      159.760   Durbin-Watson:                   1.946\n",
      "Prob(Omnibus):                  0.000   Jarque-Bera (JB):              975.400\n",
      "Skew:                           2.500   Prob(JB):                    1.57e-212\n",
      "Kurtosis:                      10.980   Cond. No.                     1.22e+16\n",
      "==============================================================================\n",
      "\n",
      "Notes:\n",
      "[1] Standard Errors assume that the covariance matrix of the errors is correctly specified.\n",
      "[2] The smallest eigenvalue is 3.29e-30. This might indicate that there are\n",
      "strong multicollinearity problems or that the design matrix is singular.\n"
     ]
    }
   ],
   "source": [
    "df['CE_WOMEN'] = df2['SEX'].apply(lambda x : x==2)\n",
    "df['CE_MEN'] = df2['SEX'].apply(lambda x : x==1)\n",
    "mod= smf.ols(formula=\"WAGP\\\n",
    "                      ~ CE_WOMEN\\\n",
    "                       + CE_MEN\", \n",
    "              data=df)\n",
    "res = mod.fit()\n",
    "print(res.summary())"
   ]
  },
  {
   "cell_type": "code",
   "execution_count": 35,
   "metadata": {},
   "outputs": [
    {
     "name": "stdout",
     "output_type": "stream",
     "text": [
      "                            OLS Regression Results                            \n",
      "==============================================================================\n",
      "Dep. Variable:       np.log(1 + WAGP)   R-squared:                       0.028\n",
      "Model:                            OLS   Adj. R-squared:                  0.024\n",
      "Method:                 Least Squares   F-statistic:                     7.576\n",
      "Date:                Mon, 29 Mar 2021   Prob (F-statistic):            0.00633\n",
      "Time:                        03:03:53   Log-Likelihood:                -353.75\n",
      "No. Observations:                 264   AIC:                             711.5\n",
      "Df Residuals:                     262   BIC:                             718.6\n",
      "Df Model:                           1                                         \n",
      "Covariance Type:            nonrobust                                         \n",
      "====================================================================================\n",
      "                       coef    std err          t      P>|t|      [0.025      0.975]\n",
      "------------------------------------------------------------------------------------\n",
      "Intercept            7.2471      0.061    119.089      0.000       7.127       7.367\n",
      "CE_WOMEN[T.True]     3.3723      0.117     28.925      0.000       3.143       3.602\n",
      "CE_MEN[T.True]       3.8748      0.070     55.221      0.000       3.737       4.013\n",
      "==============================================================================\n",
      "Omnibus:                       97.566   Durbin-Watson:                   1.896\n",
      "Prob(Omnibus):                  0.000   Jarque-Bera (JB):              328.748\n",
      "Skew:                          -1.584   Prob(JB):                     4.10e-72\n",
      "Kurtosis:                       7.455   Cond. No.                     1.22e+16\n",
      "==============================================================================\n",
      "\n",
      "Notes:\n",
      "[1] Standard Errors assume that the covariance matrix of the errors is correctly specified.\n",
      "[2] The smallest eigenvalue is 3.29e-30. This might indicate that there are\n",
      "strong multicollinearity problems or that the design matrix is singular.\n"
     ]
    }
   ],
   "source": [
    "#Question 3, but with log transformation\n",
    "mod= smf.ols(formula=\"np.log(1+WAGP)\\\n",
    "                      ~ CE_WOMEN\\\n",
    "                       + CE_MEN\", \n",
    "              data=df)\n",
    "res = mod.fit()\n",
    "print(res.summary())"
   ]
  },
  {
   "cell_type": "code",
   "execution_count": null,
   "metadata": {},
   "outputs": [],
   "source": []
  }
 ],
 "metadata": {
  "kernelspec": {
   "display_name": "Python 3",
   "language": "python",
   "name": "python3"
  },
  "language_info": {
   "codemirror_mode": {
    "name": "ipython",
    "version": 3
   },
   "file_extension": ".py",
   "mimetype": "text/x-python",
   "name": "python",
   "nbconvert_exporter": "python",
   "pygments_lexer": "ipython3",
   "version": "3.8.5"
  }
 },
 "nbformat": 4,
 "nbformat_minor": 4
}
